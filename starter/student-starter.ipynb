{
 "cells": [
  {
   "cell_type": "code",
   "execution_count": null,
   "outputs": [],
   "source": [
    "# These should already be installed on your workspace\n",
    "!pip install --disable-pip-version-check --quiet -U langchain==0.2.16\n",
    "!pip install --disable-pip-version-check --quiet -U langchain_openai==0.1.23\n",
    "!pip install --disable-pip-version-check --quiet -U langgraph==0.2.19\n",
    "!pip install --disable-pip-version-check --quiet -U langchainhub==0.1.21\n",
    "!pip install --disable-pip-version-check --quiet -U tavily-python==0.4.0\n",
    "!pip install --disable-pip-version-check --quiet -U langchain-community==0.2.16\n",
    "!pip install --disable-pip-version-check --quiet -U python-dotenv==1.0.1"
   ],
   "metadata": {
    "collapsed": false
   },
   "id": "f6b69d6d726bf0a9"
  },
  {
   "cell_type": "code",
   "execution_count": 1,
   "id": "initial_id",
   "metadata": {
    "collapsed": true,
    "ExecuteTime": {
     "end_time": "2024-09-25T15:39:53.914515Z",
     "start_time": "2024-09-25T15:39:53.907761Z"
    }
   },
   "outputs": [],
   "source": [
    "# Load in the OpenAI key and Tavily key.\n",
    "# In the project folder, create a file named 'config.env'\n",
    "# ensure your .env file contains keys named OPENAI_API_KEY=\"your key\" and TAVILY_API_KEY=\"your key\"\n",
    "from dotenv import load_dotenv\n",
    "import os \n",
    "\n",
    "load_dotenv('config.env')\n",
    "assert os.getenv('OPENAI_API_KEY') is not None\n",
    "assert os.getenv('TAVILY_API_KEY') is not None"
   ]
  },
  {
   "cell_type": "code",
   "execution_count": 3,
   "outputs": [
    {
     "data": {
      "image/jpeg": "[encoded data removed]",
      "text/plain": "<IPython.core.display.Image object>"
     },
     "metadata": {},
     "output_type": "display_data"
    },
    {
     "name": "stdout",
     "output_type": "stream",
     "text": [
      "step_1 {'messages': []}\n"
     ]
    },
    {
     "data": {
      "text/plain": "{'messages': []}"
     },
     "execution_count": 3,
     "metadata": {},
     "output_type": "execute_result"
    }
   ],
   "source": [
    "import time \n",
    "from langgraph.graph import MessagesState, START, StateGraph, END\n",
    "from langchain_openai import ChatOpenAI\n",
    "from langgraph.checkpoint.memory import MemorySaver\n",
    "from langchain_core.runnables import RunnableConfig\n",
    "from IPython.display import Image, display\n",
    "\n",
    "# Helper functions\n",
    "def display_text_to_user(text):\n",
    "    print(text) \n",
    "    time.sleep(1) # wait for it to render before asking for input or it'll never show up.\n",
    "    \n",
    "def ask_user_for_input(input_description):\n",
    "    response = input(input_description)\n",
    "    return response\n",
    "    \n",
    "class State(MessagesState):\n",
    "    example: str \n",
    "    \n",
    "model = ChatOpenAI(temperature=0, streaming=True)\n",
    "workflow = StateGraph(State)\n",
    "\n",
    "# nodes\n",
    "def step_1(state):\n",
    "    print('step_1 called', state)\n",
    "    return state\n",
    "\n",
    "workflow.add_node(\"step_1\", step_1)\n",
    "workflow.add_edge(START, \"step_1\")\n",
    "workflow.add_edge(\"step_1\", END)\n",
    "\n",
    "\n",
    "memory = MemorySaver()\n",
    "app = workflow.compile(checkpointer=memory)\n",
    "display(Image(app.get_graph().draw_mermaid_png()))\n",
    "\n",
    "config = RunnableConfig(recursion_limit=2000, configurable={\"thread_id\": \"2\"})  \n",
    "\n",
    "\n",
    "initial_state = {\"messages\": [],}\n",
    "    \n",
    "app.invoke(\n",
    "    initial_state,\n",
    "    config,\n",
    ")"
   ],
   "metadata": {
    "collapsed": false,
    "ExecuteTime": {
     "end_time": "2024-09-25T16:08:52.147454Z",
     "start_time": "2024-09-25T16:08:50.583034Z"
    }
   },
   "id": "663923b47827d3f1"
  },
  {
   "cell_type": "code",
   "execution_count": null,
   "outputs": [],
   "source": [],
   "metadata": {
    "collapsed": false
   },
   "id": "e6ecdda9b6b1c8f2"
  }
 ],
 "metadata": {
  "kernelspec": {
   "display_name": "Python 3",
   "language": "python",
   "name": "python3"
  },
  "language_info": {
   "codemirror_mode": {
    "name": "ipython",
    "version": 2
   },
   "file_extension": ".py",
   "mimetype": "text/x-python",
   "name": "python",
   "nbconvert_exporter": "python",
   "pygments_lexer": "ipython2",
   "version": "2.7.6"
  }
 },
 "nbformat": 4,
 "nbformat_minor": 5
}
